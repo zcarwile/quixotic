{
 "cells": [
  {
   "cell_type": "code",
   "execution_count": 1,
   "metadata": {
    "collapsed": false
   },
   "outputs": [],
   "source": [
    "### QUIXOTIC Analytical ETL\n",
    "import mysql.connector\n",
    "import http.client\n",
    "import xml.etree.ElementTree as ET\n",
    "import os\n",
    "import pandas as pd\n",
    "\n",
    "db_server = \"127.0.0.1\"\n",
    "db_port = 3306\n",
    "db_name = \"quixotic_etl\"\n",
    "db_user = \"root\"\n",
    "db_pass = \"root\"\n",
    "\n",
    "from qlib import get_last_collection_time_and_file_id\n",
    "\n",
    "DATA_DIR_EMAIL = '../quixotic/data/operational/email'\n",
    "DATA_DIR_CALENDAR = '../quixotic/data/operational/calendar'\n",
    "DATA_DIR_RESCUE_TIME = '../quixotic/data/operational/rescue_time'"
   ]
  },
  {
   "cell_type": "code",
   "execution_count": 2,
   "metadata": {
    "collapsed": false
   },
   "outputs": [
    {
     "name": "stdout",
     "output_type": "stream",
     "text": [
      "Empty DataFrame\n",
      "Columns: [start, end, title, detail, tags, features, relevant, user_id]\n",
      "Index: []\n"
     ]
    }
   ],
   "source": [
    "# Create empty dataframe w/event schema\n",
    "# But why -- this is just gon' be a PITA to load into MySQL\n",
    "QDF = pd.DataFrame(columns=['start','end','title','detail','tags','features','relevant','user_id'])\n",
    "print(QDF)"
   ]
  },
  {
   "cell_type": "code",
   "execution_count": 3,
   "metadata": {
    "collapsed": false
   },
   "outputs": [],
   "source": [
    "# connect to general server for input\n",
    "cnx = mysql.connector.connect(user=db_user, password=db_pass, host=db_server, db=db_name)\n",
    "fout = open(\"../quixotic/data/output/etl.txt\",\"w\")"
   ]
  },
  {
   "cell_type": "code",
   "execution_count": 4,
   "metadata": {
    "collapsed": false,
    "scrolled": true
   },
   "outputs": [
    {
     "name": "stdout",
     "output_type": "stream",
     "text": [
      "No previous Rescue Time data found\n"
     ]
    },
    {
     "data": {
      "text/plain": [
       "True"
      ]
     },
     "execution_count": 4,
     "metadata": {},
     "output_type": "execute_result"
    }
   ],
   "source": [
    "### Get last RT date from DB\n",
    "\n",
    "cursor = cnx.cursor()  \n",
    "query = \"(SELECT max(start) as maxstart from event where tags='Rescue Time')\"  \n",
    "cursor.execute(query)\n",
    "\n",
    "# unmarshall date\n",
    "last_harvest_rescue_time = None\n",
    "for (maxstart) in cursor:\n",
    "    if maxstart[0] is None:\n",
    "        print(\"No previous Rescue Time data found\")\n",
    "    else:\n",
    "        last_harvest_rescue_time = maxstart[0]\n",
    "        print(\"Last Rescue Time harvest:\")\n",
    "        print(last_harvest_rescue_time) #datetime.datetime\n",
    "\n",
    "cursor.close()"
   ]
  },
  {
   "cell_type": "markdown",
   "metadata": {},
   "source": [
    "## Rescue Time"
   ]
  },
  {
   "cell_type": "code",
   "execution_count": 5,
   "metadata": {
    "collapsed": false
   },
   "outputs": [
    {
     "data": {
      "text/plain": [
       "True"
      ]
     },
     "execution_count": 5,
     "metadata": {},
     "output_type": "execute_result"
    }
   ],
   "source": [
    "### write Rescue Time events since last ETL date/(time?) (may be multiple files)\n",
    "cursor = cnx.cursor()\n",
    "# get relevant day files\n",
    "for file in os.listdir(DATA_DIR_RESCUE_TIME): #[stamp > last_harvest_rescue_time:\n",
    "    file_fullpath = DATA_DIR_RESCUE_TIME + os.sep + file\n",
    "    with open(file_fullpath,\"r\") as f:\n",
    "        for line in f:\n",
    "        #if event_time > last_harvest_rescue_time:\n",
    "            event = line.split(\"\\t\")\n",
    "            start = event[0] # 2015-11-06T09:00:00 MYSQL STR_TO_DATE('2015-10-26T07:45:00', '%d-%m-%YT%h:%i:%s')\n",
    "            features = event[1]\n",
    "            title = event[2]\n",
    "            detail = event[3]\n",
    "            tags = \"Rescue Time\"\n",
    "            fout.write(\"%s\\t%s\\t%s\\t%s\\t%s\\n\" % (start, title, features, detail, tags))\n",
    "            query = \"INSERT INTO event (start, title, detail, tags, features) VALUES (\\\"%s\\\", \\\"%s\\\", \\\"%s\\\", \\\"%s\\\", \\\"%s\\\")\" % (start, title, detail, tags, features)\n",
    "            cursor.execute(query)\n",
    "                \n",
    "cnx.commit()\n",
    "cursor.close()"
   ]
  },
  {
   "cell_type": "markdown",
   "metadata": {},
   "source": [
    "## Emails"
   ]
  },
  {
   "cell_type": "code",
   "execution_count": 5,
   "metadata": {
    "collapsed": false
   },
   "outputs": [
    {
     "data": {
      "text/plain": [
       "True"
      ]
     },
     "execution_count": 5,
     "metadata": {},
     "output_type": "execute_result"
    }
   ],
   "source": [
    "### write emails from latest file\n",
    "cursor = cnx.cursor()\n",
    "junk,file_id_email = get_last_collection_time_and_file_id(DATA_DIR_EMAIL)     \n",
    "file_email = DATA_DIR_EMAIL + os.sep + \"zcarwile_\" + str(file_id_email) + \".txt\"\n",
    "with open(file_email,\"r\") as f:\n",
    "    for line in f:\n",
    "        event = line.split(\"\\t\")\n",
    "        features = event[0]\n",
    "        start = event[1] # 2015-11-24 16:03:57 -- MYSQL STR_TO_DATE('2015-11-24 16:03:57', '%d-%m-%YT h:%i:%s')\n",
    "        detail = event[2]\n",
    "        title = event[3]\n",
    "        tags = \"Email\"\n",
    "        fout.write(\"%s\\t%s\\t%s\\t%s\\t%s\\t%s\\n\" % (features, start, \"\", title, detail, tags))\n",
    "        query = \"INSERT INTO event (start, title, detail, tags, features) VALUES (\\\"%s\\\", \\\"%s\\\", \\\"%s\\\", \\\"%s\\\", \\\"%s\\\")\" % (start, title, detail, tags, features)\n",
    "        cursor.execute(query)\n",
    "\n",
    "cnx.commit()\n",
    "cursor.close()"
   ]
  },
  {
   "cell_type": "markdown",
   "metadata": {},
   "source": [
    "## Calendar"
   ]
  },
  {
   "cell_type": "code",
   "execution_count": 6,
   "metadata": {
    "collapsed": false
   },
   "outputs": [
    {
     "data": {
      "text/plain": [
       "True"
      ]
     },
     "execution_count": 6,
     "metadata": {},
     "output_type": "execute_result"
    }
   ],
   "source": [
    "### write calendar events from latest file\n",
    "cursor = cnx.cursor()\n",
    "junk,file_id_calendar = get_last_collection_time_and_file_id(DATA_DIR_CALENDAR)         \n",
    "file_calendar = DATA_DIR_CALENDAR + os.sep + \"zcarwile_\" + str(file_id_calendar) + \".txt\"\n",
    "with open(file_calendar,\"r\") as f:\n",
    "    for line in f:\n",
    "        event = line.split(\"\\t\")\n",
    "        features = event[0]\n",
    "        start = event[1][0:19] #2015-10-26T07:45:00-04:00 -- MYSQL STR_TO_DATE('2015-10-26T07:45:00', '%d-%m-%YT%h:%i:%s')\n",
    "        end = event[2] #2015-10-26T07:45:00-04:00 -- MYSQL STR_TO_DATE('2015-10-26T07:45:00', '%d-%m-%YT%h:%i:%s')\n",
    "        detail = event[3]\n",
    "        title = event[4]\n",
    "        tags = \"Calendar\"\n",
    "        fout.write(\"%s\\t%s\\t%s\\t%s\\t%s\\t%s\\n\" % (features, start, end, title, detail, tags))\n",
    "        query = \"INSERT INTO event (start, end, title, detail, tags, features) VALUES (\\\"%s\\\", \\\"%s\\\", \\\"%s\\\", \\\"%s\\\", \\\"%s\\\", \\\"%s\\\")\" % (start, end, title, detail, tags, features)\n",
    "        cursor.execute(query)\n",
    "\n",
    "cnx.commit()\n",
    "cursor.close()        \n",
    "\n"
   ]
  },
  {
   "cell_type": "code",
   "execution_count": 7,
   "metadata": {
    "collapsed": true
   },
   "outputs": [],
   "source": [
    "### Generated features (i.e. word count, relevance score, spamness)\n",
    "\n",
    "# L8R\n",
    "\n",
    "### Generate and classify blocks of time blocks of time\n",
    "\n",
    "# L8R\n",
    "\n",
    "### Close DB Connections\n",
    "fout.close()\n",
    "cnx.close()"
   ]
  },
  {
   "cell_type": "code",
   "execution_count": null,
   "metadata": {
    "collapsed": true
   },
   "outputs": [],
   "source": []
  }
 ],
 "metadata": {
  "kernelspec": {
   "display_name": "Python 3",
   "language": "python",
   "name": "python3"
  },
  "language_info": {
   "codemirror_mode": {
    "name": "ipython",
    "version": 3
   },
   "file_extension": ".py",
   "mimetype": "text/x-python",
   "name": "python",
   "nbconvert_exporter": "python",
   "pygments_lexer": "ipython3",
   "version": "3.4.3"
  }
 },
 "nbformat": 4,
 "nbformat_minor": 0
}
