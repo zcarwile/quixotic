{
 "cells": [
  {
   "cell_type": "code",
   "execution_count": 1,
   "metadata": {
    "collapsed": true
   },
   "outputs": [],
   "source": [
    "### Email experimentation"
   ]
  },
  {
   "cell_type": "code",
   "execution_count": 2,
   "metadata": {
    "collapsed": true
   },
   "outputs": [],
   "source": [
    "from __future__ import print_function\n",
    "import httplib2\n",
    "import os\n",
    "import sys\n",
    "import email.utils\n",
    "import time\n",
    "import datetime\n",
    "\n",
    "from apiclient import discovery\n",
    "import oauth2client\n",
    "from oauth2client import client\n",
    "from oauth2client import tools\n",
    "\n",
    "SCOPES = 'https://www.googleapis.com/auth/gmail.readonly'\n",
    "CLIENT_SECRET_FILE = 'client_secret.json'\n",
    "APPLICATION_NAME = 'Gmail API Python Quickstart'"
   ]
  },
  {
   "cell_type": "code",
   "execution_count": 4,
   "metadata": {
    "collapsed": false
   },
   "outputs": [],
   "source": [
    "import bs4"
   ]
  },
  {
   "cell_type": "code",
   "execution_count": 5,
   "metadata": {
    "collapsed": true
   },
   "outputs": [],
   "source": [
    "def get_credentials():\n",
    "    \"\"\"Gets valid user credentials from storage.\n",
    "    If nothing has been stored, or if the stored credentials are invalid,\n",
    "    the OAuth2 flow is completed to obtain the new credentials.\n",
    "    Returns:\n",
    "        Credentials, the obtained credential.\n",
    "    \"\"\"\n",
    "    home_dir = os.path.expanduser('~')\n",
    "    credential_dir = os.path.join(home_dir, '.credentials')\n",
    "    if not os.path.exists(credential_dir):\n",
    "        os.makedirs(credential_dir)\n",
    "    credential_path = os.path.join(credential_dir,\n",
    "                                   'gmail-python-quickstart.json')\n",
    "\n",
    "    store = oauth2client.file.Storage(credential_path)\n",
    "    credentials = store.get()\n",
    "    if not credentials or credentials.invalid:\n",
    "        flow = client.flow_from_clientsecrets(CLIENT_SECRET_FILE, SCOPES)\n",
    "        flow.user_agent = APPLICATION_NAME\n",
    "        if flags:\n",
    "            credentials = tools.run_flow(flow, store, flags)\n",
    "        else: # Needed only for compatability with Python 2.6\n",
    "            credentials = tools.run(flow, store)\n",
    "        print('Storing credentials to ' + credential_path)\n",
    "    return credentials"
   ]
  },
  {
   "cell_type": "code",
   "execution_count": 6,
   "metadata": {
    "collapsed": true
   },
   "outputs": [],
   "source": [
    "\"\"\"Shows basic usage of the Gmail API.\n",
    "Creates a Gmail API service object and outputs a list of label names\n",
    "of the user's Gmail account.\n",
    "\"\"\"\n",
    "credentials = get_credentials()\n",
    "http = credentials.authorize(httplib2.Http())\n",
    "service = discovery.build('gmail', 'v1', http=http)\n",
    "\n",
    "\n",
    "#results = service.users().labels().list(userId='me').execute()\n",
    "results = service.users().messages().list(userId='me',labelIds='SENT').execute()\n",
    "messages = results.get('messages')"
   ]
  },
  {
   "cell_type": "code",
   "execution_count": 37,
   "metadata": {
    "collapsed": false
   },
   "outputs": [],
   "source": [
    "message = messages[9]\n",
    "m = service.users().messages().get(userId='me',id=message['id'],format='full').execute()"
   ]
  },
  {
   "cell_type": "code",
   "execution_count": 42,
   "metadata": {
    "collapsed": false
   },
   "outputs": [
    {
     "name": "stdout",
     "output_type": "stream",
     "text": [
      "'SSdsbCBiZSB0aGVyZS4gIPCfkY0NCg0KU2VudCBmcm9tIG15IGlQaG9uZQ0KDQo-IE9uIEF1ZyAzMSwgMjAxNiwgYXQgMjowOCBQTSwgSm9uIFNoZXBoZXJkIDxqc2hlcGhlcmRAY29udGludXVtLmlvPiB3cm90ZToNCj4gDQo-IE1pY2hlbGUgaXMgZ29pbmcgdG8gYXNrIGEgZmV3IGZvbGtzIHRvbW9ycm93IHdoYXQgdGhlIHRocmVlIHRoaW5ncyB0aGV5IGFyZSBkb2luZyB0byBoZWxwIGFjaGlldmUgb3VyIFEzIGdvYWxzICh0aGlzIHdhcyBhIGNoYWxsZW5nZSB0byB0aGUgdGVhbSBmcm9tIHRoZSBsYXN0IG1lZXRpbmcpDQo-IA0KPiBTaGUncyBnb2luZyB0byBjYWxsIG9uIHlvdSB0d28sIERlcmVrIGFuZCBaYWNoLiAgU28sIGZpcnN0LCBhcmUgeW91IGdvaW5nIHRvIGJlIG9uIHRoZSBjYWxsL21lZXRpbmc_ICBJZiBzbywgcGxlYXNlIHByZXBhcmUgb25lIG9yIHR3byBvciB0aHJlZSB0aGluZ3MgdGhhdCB5b3UgYXJlIGRvaW5nIHRvIGhlbHAgdXMgdG93YXJkIG91ciB0YXJnZXRzLiAgDQo-IF9fX19fX19fX19fX19fX19fX19fX19fX19fX18NCj4gDQo-IEpvbiBTaGVwaGVyZCAgICANCj4gDQo-IFNWUCwgU2FsZXMNCj4gDQo-IG0uICsxLTQwNC00NDQtMTMzOA0KPiANCj4gPGltYWdlMDAxLnBuZz4NCj4gDQo-ICAgIDxpbWFnZTAwMi5wbmc-ICAgICA8aW1hZ2UwMDMucG5nPiAgICAgICAgIGNvbnRpbnV1bS5pbw0KPiANCj4gX19fX19fX19fX19fX19fX19fX19fX19fX19fX19fDQo='\n"
     ]
    },
    {
     "data": {
      "text/plain": [
       "b'<html\\x0f\\x1a\\x19XY\\x03\\xc6\\xd6WF\\x12\\x06\\x87GG\\x02\\xd6W\\x17V\\x97c\\xd2&6\\xf6\\xe7FV\\xe7B\\xd7G\\x97\\x06R\"\\x066\\xf6\\xe7FV\\xe7C\\xd2\\'FW\\x87B\\xf6\\x87F\\xd6\\xc3\\xb2\\x066\\x86\\x17\\'6WC\\xd7WFb\\xd3\\x82#\\xe3\\xc2\\xf6\\x86V\\x16C\\xe3\\xc6&\\xf6G\\x92\\x06F\\x97#\\xd2&\\x17WF\\xf2#\\xe3\\xc6F\\x97a$\\x9d\\xb1\\xb0\\x81\\x89\\x94\\x81\\xd1\\xa1\\x95\\xc9\\x94\\xb8\\x80\\x99\\xb9\\x89\\xcd\\xc0\\xef\\xc2Q\\x8d</div><div id=\"AppleMailSignature\"\\x0f\\x18\\x9c\\x8f\\x94\\xd9[\\x9d\\x08\\x19\\x9c\\x9b\\xdbH\\x1b^H\\x1aT\\x1a\\x1b\\xdb\\x99O\\x0b\\xd9\\x1a]\\x8f\\x8f\\x19\\x1a]\\x8f\\x8f\\x18\\x9c\\x8f\\x93\\xdb\\x88\\x10]Y\\xc8\\x0c\\xccK\\x08\\x0c\\x8c\\x0cM\\x8b\\x08\\x18]\\x08\\x0c\\x8e\\x8c\\x0e\\x08\\x14\\x13K\\x08\\x12\\x9b\\xdb\\x88\\x14\\xda\\x19\\\\\\x1a\\x19\\\\\\x99\\x08\\t\\x9b\\x1d\\x0e\\xcf\\x18H\\x1a\\x1c\\x99Y\\x8fH\\x9bXZ[\\x1d\\x1b\\xce\\x9a\\x9c\\xda\\x19\\\\\\x1a\\x19\\\\\\x99\\x10\\x18\\xdb\\xdb\\x9d\\x1a[\\x9d][K\\x9a[\\xc8\\x8f\\x9a\\x9c\\xda\\x19\\\\\\x1a\\x19\\\\\\x99\\x10\\x18\\xdb\\xdb\\x9d\\x1a[\\x9d][K\\x9a[\\xcf\\x0b\\xd8BfwC\\xb2\\x07w&\\xf7FS\\xa3\\xc6\\' \\xf1\\x89\\xc8\\xf8\\xf0\\xbd\\x91\\xa5\\xd8\\xf8\\xf1\\x89\\xb1\\xbd\\x8d\\xad\\xc5\\xd5\\xbd\\xd1\\x94\\x81\\xd1\\xe5\\xc1\\x94\\xf4\\x89\\x8d\\xa5\\xd1\\x94\\x88\\xf8\\xf1\\x91\\xa5\\xd8<div dir=\"ltr\"\\x13ZX\\xda\\x19[\\x19H\\x1a\\\\\\xc8\\x19\\xdb\\xda[\\x99\\xc8\\x1d\\x1b\\xc8\\x18\\\\\\xda\\xc8\\x18H\\x19\\x99]\\xc8\\x19\\x9b\\xdb\\x1a\\xdc\\xc8\\x1d\\x1b\\xdb[\\xdc\\x9c\\x9b\\xdd\\xc8\\x1d\\xda\\x18]\\x08\\x1d\\x1a\\x19H\\x1d\\x1a\\x1c\\x99YH\\x1d\\x1a\\x1a[\\x99\\xdc\\xc8\\x1d\\x1a\\x19^H\\x18\\\\\\x99H\\x19\\x1b\\xda[\\x99\\xc8\\x1d\\x1b\\xc8\\x1a\\x19[\\x1c\\x08\\x18X\\xda\\x1aY]\\x99H\\x1b\\xdd\\\\\\x88\\x14L\\xc8\\x19\\xdb\\xd8[\\x1c\\xc8\\n\\x1d\\x1a\\x1a\\\\\\xc8\\x1d\\xd8\\\\\\xc8\\x18H\\x18\\xda\\x18[\\x1b\\x19[\\x99\\xd9H\\x1d\\x1b\\xc8\\x1d\\x1a\\x19H\\x1d\\x19X[H\\x19\\x9c\\x9b\\xdbH\\x1d\\x1a\\x19H\\x1b\\x18\\\\\\xdd\\x08\\x1bYY]\\x1a[\\x99\\xcaO\\x19\\x1a]\\x8f\\x8f\\x18\\x9c\\x8f\\x8f\\x0b\\xd9\\x1a]\\x8f\\x8f\\x19\\x1a]\\x8f\\x94\\xda\\x19I\\xdc\\xc8\\x19\\xdb\\xda[\\x99\\xc8\\x1d\\x1b\\xc8\\x18\\xd8[\\x1b\\x08\\x1b\\xdb\\x88\\x1e[\\xddH\\x1d\\x1d\\xdb\\xcb\\x08\\x11\\x19\\\\\\x99Z\\xc8\\x18[\\x99\\x08\\x16\\x98X\\xda\\x0b\\x89\\x9b\\x98\\x9c\\xdc\\x0e\\xc8\\x14\\xdb\\xcb\\x08\\x19\\x9a\\\\\\x9c\\xdd\\x0b\\x08\\x18\\\\\\x99H\\x1e[\\xddH\\x19\\xdb\\xda[\\x99\\xc8\\x1d\\x1b\\xc8\\x18\\x99H\\x1b\\xdb\\x88\\x1d\\x1a\\x19H\\x18\\xd8[\\x1b\\x0b\\xdbYY]\\x1a[\\x99\\xcf\\xc9\\x9b\\x98\\x9c\\xdc\\x0e\\xc8\\x12Y\\x88\\x1c\\xdb\\xcb\\x08\\x1c\\x1b\\x19X\\\\\\xd9H\\x1c\\x1c\\x99\\\\\\x18\\\\\\x99H\\x1b\\xdb\\x99H\\x1b\\xdc\\x88\\x1d\\x1d\\xdb\\xc8\\x1b\\xdc\\x88\\x1d\\x1a\\x1c\\x99YH\\x1d\\x1a\\x1a[\\x99\\xdc\\xc8\\x1d\\x1a\\x18]\\x08\\x1e[\\xddH\\x18\\\\\\x99H\\x19\\x1b\\xda[\\x99\\xc8\\x1d\\x1b\\xc8\\x1a\\x19[\\x1c\\x08\\x1d\\\\\\xc8\\x1d\\x1b\\xdd\\xd8\\\\\\x99\\x08\\x1b\\xdd\\\\\\x88\\x1d\\x18\\\\\\x99\\xd9]\\x1c\\xcb\\x88\\t\\x9b\\x98\\x9c\\xdc\\x0e\\xcf\\x18\\x9c\\x88\\x18\\xdb\\x19X\\\\\\x8fH\\x98[\\x1b\\x08\\x83\\xc6F\\x97c\\xe3\\xc6F\\x97b\\x066\\xc6\\x1773\\xd2&v\\xd6\\x16\\x96\\xc5\\xf76\\x96v\\xe6\\x17GW&R\"\\x06F\\x17F\\x12\\xd76\\xd6\\x17\\'F\\xd6\\x16\\x96\\xc3\\xd2&v\\xd6\\x16\\x96\\xc5\\xf76\\x96v\\xe6\\x17GW&R#\\xe3\\xc6F\\x97b\\x06F\\x97#\\xd2&\\xc7G\"#\\xe3\\xc6F\\x97`\\xf1\\x91\\xa5\\xd8\\x81\\x91\\xa5\\xc8\\xf4\\x89\\xb1\\xd1\\xc8\\x88<div dir=\"ltr\"\\x0f\\x1c\\x08\\x1c\\xdd\\x1e[\\x19OH\\x99\\x9b\\xdb\\x9d\\x0b\\\\\\xda^\\x99N\\x8cL\\x8b\\x8e\\x1c\\x1e\\x08\\x8f\\x8f\\x1dO\\x8f\\x1c\\xdc\\x18[\\x88\\x1c\\xdd\\x1e[\\x19OH\\x98\\xdb\\xdb\\x1b\\xdc\\x8e\\x9c\\x99\\xd8\\x8a\\x0c\\xcd\\x8b\\rMK\\r\\xcc\\nH\\x8f\\x97\\xd7\\xd7\\xd7\\xd7\\xd7\\xd7\\xd7\\xd7\\xd7\\xd7\\xd7\\xd7\\xd7\\xd7\\xd7\\xd7\\xd7\\xd7\\xd7\\xd7\\xd7\\xd7\\xd7\\xd7\\xd7\\xd7\\xd7\\xcf\\x0b\\xdc\\xdc\\x18[\\x8f\\x8f\\x0b\\xddO\\x8f\\x0b\\xdc\\x03\\xc7\\x02\\x077G\\x96\\xc6S\\xd2&f\\xf6\\xe7B\\xd76\\x97\\xa6S\\xa3\\x13\"\\xe3\\x87\\x07\\x82#\\xe3\\xc6#\\xe3\\xc77\\x06\\x16\\xe2\\x077G\\x96\\xc6S\\xd2&6\\xf6\\xc6\\xf7#\\xa7&v\"\\x833b\\xc3SR\\xc3s\\x02\\x92#\\xe4\\xa6\\xf6\\xe2\\x056\\x86W\\x06\\x86W&B\\x02f\\xe6\\'7\\x03\\xb2\\x02f\\xe6\\'7\\x03\\xb3\\xc2\\xf77\\x06\\x16\\xe3\\xe3\\xc2\\xf6 \\xf0\\xbd\\xc0\\xf8\\xf1\\xc0\\x81\\xcd\\xd1\\xe5\\xb1\\x94\\xf4\\x89\\x99\\xbd\\xb9\\xd0\\xb5\\xcd\\xa5\\xe9\\x94\\xe8\\xc4\\xc8\\xb8\\xe1\\xc1\\xe0\\x88\\xf8\\xf1\\x88\\xf8\\xf1\\xcd\\xc1\\x85\\xb8\\x81\\xcd\\xd1\\xe5\\xb1\\x94\\xf4\\x89\\x99\\xbd\\xb9\\xd0\\xb5\\xcd\\xa5\\xe9\\x94\\xe8\\xe5\\xc1\\xd0\\xed\\x8d\\xbd\\xb1\\xbd\\xc8\\xe9\\xc9\\x9d\\x88\\xa0\\xe0\\xe4\\xb0\\xe0\\xe4\\xb0\\xe0\\xe4\\xa4\\x88\\xf9MY@\\xb0\\x81M\\x85\\xb1\\x95\\xcc\\xf0\\xbd\\xcd\\xc1\\x85\\xb8\\xf8\\xf0\\xbd\\x88\\xf8\\xf0\\xbd\\xc0<p style=\"font-size:12.8px\"><b><span style=\"font-size:9pt;color:rgb(89,89,89)\">m.&nbsp;+1-404-444-1338</span></b></p\\x0f\\x1c\\x08\\x1c\\xdd\\x1e[\\x19OH\\x99\\x9b\\xdb\\x9d\\x0b\\\\\\xda^\\x99N\\x8cL\\x8b\\x8e\\x1c\\x1e\\x08\\x8f\\x89\\x9b\\x1d\\x0e\\xda[XY\\xd9L\\x0c\\x0cK\\x9c\\x1b\\x99\\xc9\\x99\\xdd\\x0e\\xcf\\x0b\\xdc\\x0f\\x8f\\x1c\\x08\\x1c\\xdd\\x1e[\\x19OH\\x99\\x9b\\xdb\\x9d\\x0b\\\\\\xda^\\x99N\\x8cL\\x8b\\x8e\\x1c\\x1e\\x08\\x8f\\x89\\x9b\\x98\\x9c\\xdc\\x0e\\xc9\\x9b\\x98\\x9c\\xdc\\x0e\\xc9\\x9b\\x98\\x9c\\xdc\\x0e\\xcf\\x18H\\x1a\\x1c\\x99Y\\x8fH\\x9a\\x1d\\x1d\\x1c\\x1c\\xce\\x8b\\xcb\\xdd\\xdd\\xdd\\xcb\\x9b\\x1a[\\x9a\\xd9Y\\x1a[\\x8b\\x98\\xdb\\xdbK\\xd8\\xdb\\xdb\\\\\\x18[\\x9eK\\xcc\\x8d\\x8c\\xcd\\x8d\\x0c\\xcc\\x0f\\xdd\\x1c\\x9a\\xcf]\\x9c\\xdc\\x9c\\x17\\xd8\\xdb\\xdb\\\\\\x18[\\x9aY\\\\\\xd7\\xd8\\xdb\\x1d\\\\\\xdd\\x19\\\\\\x97\\xdb\\x98[YI\\x98[\\\\\\x0e\\xdd\\x1c\\x9a\\xd2[\\x99\\x9b\\xcfU\\x94\\xd4\\x94\\x1c\\xd9X\\\\\\x98\\xda\\x12Y\\tL\\xd0M\\x8d\\xcc\\x8cM\\xce\\x0cM\\rM\\x0eN\\r\\x0c\\x8d\\x0c\\x0e\\r\\x0c\\xc9L\\x90\\xd5\\x94\\xd4\\x94\\x1d\\x18\\\\\\x99\\xd9]\\x12Y\\tL\\xd0L\\x8d\\x8c\\xcd\\x8d\\x0c\\xcc\\tL\\x90\\xd5\\x94\\xd4\\x94\\x18\\xdb\\\\\\x1d\\tL\\xd0X\\xdb\\xdb\\\\\\x18[\\x9aY\\\\\\xd7\\xd8\\xdb\\x1d\\\\\\xdd\\x19\\\\\\x88\\x88\\x1c\\xdd\\x1e[\\x19OH\\x98\\xdb\\xdb\\x1b\\xdc\\x8e\\x9c\\x99\\xd8\\x8a\\x0cM\\xcb\\x0e\\rK\\x0c\\x8c\\r\\nH\\x88\\x1d\\x18\\\\\\x99\\xd9]\\x0fH\\x97\\xd8\\x9b\\x18[\\x9a\\xc8\\x8f\\x8f\\x18\\x8f\\x8f\\x1c\\xdc\\x18[\\x88\\x1c\\xdd\\x1e[\\x19OH\\x99\\x9b\\xdb\\x9d\\x0b\\\\\\xda^\\x99N\\x8e\\\\\\x1d\\x0e\\xd8\\xdb\\xdb\\x1b\\xdc\\x8e\\x98\\x9b\\x1dYN\\xdd\\x19^\\x1d\\x0bY\\x19X\\xdb\\xdc\\x98]\\x1a[\\xdb\\x8e\\x9b\\x9b\\xdb\\x99H\\x8f\\x89\\x9b\\x1d\\x0e\\xda[XY\\xd9L\\x0c\\x0c\\x8b\\x9c\\x1b\\x99\\xc9\\x99\\xdd\\x0e\\xcf\\x0b\\xdc\\xdc\\x18[\\x8f\\x8f\\x0b\\xd8\\x83\\xc2\\xf6\\x13\\xe3\\xc6#\\xe3\\xc77\\x06\\x16\\xe2\\x077G\\x96\\xc6S\\xd2&f\\xf6\\xe7B\\xd76\\x97\\xa6S\\xa3\\x97\\x07C\\xb66\\xf6\\xc6\\xf7#\\xa7&v\"\\x83#3r\\xc3\\x13#R\\xc3C\\x92\\x92 \\x99\\xb9\\x89\\xcd\\xc0\\xec\\x99\\xb9\\x89\\xcd\\xc0\\xec\\x99\\xb9\\x89\\xcd\\xc0\\xec\\x99\\xb9\\x89\\xcd\\xc0\\xec\\x99\\xb9\\x89\\xcd\\xc0\\xec\\xf0\\xbd\\xcd\\xc1\\x85\\xb8\\xf8\\xf0\\xbd\\x88\\xf8\\xf1\\x84\\x81\\xa1\\xc9\\x95\\x98\\xf4\\x89\\xa1\\xd1\\xd1\\xc1\\xcc\\xe8\\xbc\\xbd\\xd1\\xdd\\xa5\\xd1\\xd1\\x95\\xc8\\xb9\\x8d\\xbd\\xb4\\xbd\\x8d\\xbd\\xb9\\xd1\\xa5\\xb9\\xd5\\xd5\\xb5\\xa5\\xbc\\x88\\x81\\xcd\\xd1\\xe5\\xb1\\x94\\xf4\\x89\\x8d\\xbd\\xb1\\xbd\\xc8\\xe9\\xc9\\x9d\\x88\\xa0\\xc4\\xdc\\xb0\\xe0\\xd4\\xb0\\xc8\\xc0\\xd0\\xa4\\x88\\x81\\xd1\\x85\\xc9\\x9d\\x95\\xd0\\xf4\\x89}\\x89\\xb1\\x85\\xb9\\xac\\x88\\xf8\\xf1\\xcd\\xc1\\x85\\xb8\\x81\\xcd\\xd1\\xe5\\xb1\\x94\\xf4\\x89\\x8d\\xbd\\xb1\\xbd\\xc8\\xe9\\xc9\\x9d\\x88\\xa0\\xd4\\xb0\\xe4\\xe4\\xb0\\xc4\\xe4\\xcc\\xa4\\xed\\xd1\\x95\\xe1\\xd0\\xb5\\x91\\x95\\x8d\\xbd\\xc9\\x85\\xd1\\xa5\\xbd\\xb8\\xe9\\xb9\\xbd\\xb9\\x94\\x88&lt;image003.png&gt;</span\\x0f\\x0b\\xd8O\\x89\\x9b\\x98\\x9c\\xdc\\x0e\\xc9\\x9b\\x98\\x9c\\xdc\\x0e\\xc9\\x9b\\x98\\x9c\\xdc\\x0e\\xc9\\x9b\\x98\\x9c\\xdc\\x0e\\xc9\\x9b\\x98\\x9c\\xdc\\x0e\\xc9\\x9b\\x98\\x9c\\xdc\\x0e\\xc9\\x9b\\x98\\x9c\\xdc\\x0e\\xcf\\x1c\\xdc\\x18[\\x88\\x1c\\xdd\\x1e[\\x19OH\\x99\\x9b\\xdb\\x9d\\x0b\\\\\\xda^\\x99N\\x8cL\\x1c\\x1d\\x08\\x82f\\xe6\\'7\\x03\\xb2f\\xe6\\'7\\x03\\xb3\\xc77\\x06\\x16\\xe2\\x077G\\x96\\xc6S\\xd2&6\\xf6\\xc6\\xf7#\\xa7&v\"\\x833b\\xc3SR\\xc3s\\x02\\x92#\\xe3\\xc77\\x06\\x16\\xe2\\x077G\\x96\\xc6S\\xd2&6\\xf6\\xc6\\xf7#\\xa7&v\"\\x833b\\xc3SR\\xc3s\\x02\\x93\\xb7FW\\x87B\\xd6FV6\\xf7&\\x17F\\x96\\xf6\\xe3\\xa6\\xe6\\xf6\\xe6R#\\xe3\\xc6\\x12\\x06\\x87&Vc\\xd2&\\x87GG\\x03\\xa2\\xf2\\xf7wwr\\xe66\\xf6\\xe7F\\x96\\xe7WV\\xd2\\xe6\\x96\\xf2\\xf2\"\\x077G\\x96\\xc6S\\xd2&6\\xf6\\xc6\\xf7#\\xa7&v\"\\x83\\x13r\\xc3\\x83R\\xc3#\\x03B\\x92\"\\x07F\\x17&vWC\\xd2%\\xf6&\\xc6\\x16\\xe6\\xb2#\\xe66\\xf6\\xe7F\\x96\\xe7WV\\xd2\\xe6\\x96\\xf3\\xc2\\xf6\\x13\\xe3\\xc2\\xf77\\x06\\x16\\xe0\\xf0\\xbd\\xcd\\xc1\\x85\\xb8\\xf8\\xf0\\xbd\\xcd\\xc1\\x85\\xb8\\xf8\\xf0\\xbd\\xc0<p style=\"font-size:12.8px\"><span style=\"color:rgb(36,55,70);font-family:Arial,sans-serif;font-size:10pt\">______________________________</span></p\\x0f\\x0b\\xd9\\x1a]\\x83\\xc2\\xf6F\\x97`\\xf0\\xbd\\x91\\xa5\\xd8</div\\x0f\\x0b\\xd9\\x1a]\\x83\\xc2\\xf6F\\x97`4(\\xf0\\xbd\\x91\\xa5\\xd8\\xf8\\xf0\\xbd\\x91\\xa5\\xd8\\xf84(\\xf0\\xbd\\x91\\xa5\\xd8\\xf8\\xf0\\xbd\\x89\\xb1\\xbd\\x8d\\xad\\xc5\\xd5\\xbd\\xd1\\x94\\xf8\\xf0\\xbd\\x89\\xbd\\x91\\xe4</html>'"
      ]
     },
     "execution_count": 42,
     "metadata": {},
     "output_type": "execute_result"
    }
   ],
   "source": [
    "import pprint\n",
    "pp = pprint.PrettyPrinter(indent=4)\n",
    "pp.pprint(m.get('payload').get('parts')[0].get('body').get('data'))\n",
    "\n",
    "b = m.get('payload').get('parts')[1].get('body').get('data')\n",
    "base64.b64decode(b)"
   ]
  },
  {
   "cell_type": "code",
   "execution_count": 7,
   "metadata": {
    "collapsed": false
   },
   "outputs": [
    {
     "name": "stdout",
     "output_type": "stream",
     "text": [
      "15700149f1dd2a55\t2016-09-06 11:18:53\tPete Cesarini <pcesarini@continuum.io>\tRe: Anaconda WG runs on both AWS infrastructure & local internal server network?\tHey Pete, I&#39;m back in the chair today -- all set for West Health, or do we need a call? Thanks, Zach _______________________________ Zachary Carwile Sales Engineer Continuum Analytics On Fri, Sep 2\n",
      "\n",
      "15700138355cae8d\t2016-09-06 15:17:41\tasingh@continuum.io\tAccepted: Continuum/Volkswagen Connect @ Thu Sep 8, 2016 9am - 10am (asingh@continuum.io)\tZachary Carwile has accepted this invitation. Continuum/Volkswagen Connect -Introductory/Discovery call -Discuss Anaconda &amp; Subscription models JOIN WEBEX MEETING https://anaconda.webex.com/\n",
      "\n",
      "156ebe43c327c865\t2016-09-02 13:13:36\tPete Cesarini <pcesarini@continuum.io>\tRe: Anaconda WG runs on both AWS infrastructure & local internal server network?\tI&#39;m out today, but will try my best to answer. The repo lives on either AWS or locally, but he could have one repo in each place. He can use the repo to provision Python, share packages, etc. in\n",
      "\n",
      "156eb898ceb3ab59\t2016-09-02 11:34:33\tPete Cesarini <pcesarini@continuum.io>\tRe: Anaconda WG runs on both AWS infrastructure & local internal server network?\tYes :) Sent from my iPhone On Sep 2, 2016, at 10:34 AM, Pete Cesarini &lt;pcesarini@continuum.io&gt; wrote: Good Morning Zach A potential buyer is asking - does Anaconda Workgroup run on both AWS\n",
      "\n",
      "156e79a3af350bc0\t2016-09-01 17:14:18\tMatthew.Cook@bmwgroup.com\tRe: Creating environments\tHi Matthew, I don&#39;t have an immediate answer and Brad&#39;s been on a client site, so I forwarded along to our support team. Ticket #2268. Brad, have you encountered this error message? Thanks,\n",
      "\n",
      "156e75433a64720b\t2016-09-01 15:57:44\tLauren Johnson <ljohnson@continuum.io>\tFwd: License for Citadel Mosaic PoC\tFYI -- for AEN, the runbook is the documentation we want to send. Duane or Brad should be able to provide the latest copy. -Zach Begin forwarded message: From: Jeremy Enns &lt;jenns@continuum.io&gt;\n",
      "\n",
      "156e64c55c1bdd75\t2016-09-01 11:09:37\tMatt Thornell <matt.thornell@continuum.io>\tNation Grid PoC SOW draft\thttps://docs.google.com/document/d/16Ht6f1ZDkCHSxQkcsQRTvoT3gH_kVcYEm6aSzX1j9W0 _______________________________ Zachary Carwile Sales Engineer Continuum Analytics\n",
      "\n",
      "156e621e028dc2c1\t2016-09-01 10:23:15\t\"Continuum Analytics, Inc\" <support@continuum.io>\tFwd: Creating environments\t---------- Forwarded message ---------- From: &lt;Matthew.Cook@bmwgroup.com&gt; Date: Thu, Sep 1, 2016 at 10:14 AM Subject: Creating environments To: zcarwile@continuum.io, bkreider@continuum.io Cc:\n",
      "\n",
      "156e3846a7d48887\t2016-09-01 02:12:01\tclintosterholz@gmail.com\tInvitation: lunch @ Thu Sep 8, 2016 12:30 - 13:30 (Personal)\tmore details » lunch When Thu Sep 8, 2016 12:30 – 13:30 Eastern Time Where TBD (map) Calendar Personal Who • zcarwile@continuum.io - organizer • clintosterholz@gmail.com Going? Yes - Maybe - No more\n",
      "\n",
      "156e1eb5acc3752d\t2016-08-31 14:45:11\tJon Shepherd <jshepherd@continuum.io>\tRe: ABU meeting tomorrow\tI&#39;ll be there. 👍 Sent from my iPhone On Aug 31, 2016, at 2:08 PM, Jon Shepherd &lt;jshepherd@continuum.io&gt; wrote: Michele is going to ask a few folks tomorrow what the three things they are\n",
      "\n"
     ]
    }
   ],
   "source": [
    "\n",
    "#TODO: I'll need to handle the case of when more than 100 messages need to get added    \n",
    "#nextPageToken = results.get('nextPageToken')\n",
    "if not messages:\n",
    "    print('No messages found.')\n",
    "else:\n",
    "    i = 0\n",
    "    for message in messages:\n",
    "        to = \"\"\n",
    "        subj = \"\"\n",
    "        date = \"\"\n",
    "        m = service.users().messages().get(userId='me',id=message['id'],format='metadata').execute()\n",
    "        for header in m.get('payload').get('headers'):\n",
    "            if header['name'] == 'To':\n",
    "                to = header['value']\n",
    "            if header['name'] == 'Subject':\n",
    "                subj = header['value']\n",
    "            if header['name'] == 'Date':\n",
    "                email_date = email.utils.parsedate(header['value'])\n",
    "                email_time = time.mktime(email_date)\n",
    "                date = datetime.datetime.fromtimestamp(email_time)\n",
    "        print('%s\\t%s\\t%s\\t%s\\t%s\\n' % (message['id'],date,to,subj,m.get('snippet')))\n",
    "\n",
    "#        m = service.users().messages().get(userId='me',id=message['id'],format='full').execute()\n",
    " #       body = m.get('payload').get('parts')[0].get('body').get('data')\n",
    "#if body is not None:\n",
    "   #         print(base64.b64decode(body))    \n",
    "\n",
    " #       body = m.get('payload').get('body').get('data')\n",
    "  #      if body is not None:\n",
    "    #         print(base64.b64decode(body))\n",
    "            \n",
    "        i = i + 1\n",
    "        if i >= 10:\n",
    "            break"
   ]
  },
  {
   "cell_type": "code",
   "execution_count": 8,
   "metadata": {
    "collapsed": false
   },
   "outputs": [
    {
     "data": {
      "text/plain": [
       "'I&#39;ll be there. 👍 Sent from my iPhone On Aug 31, 2016, at 2:08 PM, Jon Shepherd &lt;jshepherd@continuum.io&gt; wrote: Michele is going to ask a few folks tomorrow what the three things they are'"
      ]
     },
     "execution_count": 8,
     "metadata": {},
     "output_type": "execute_result"
    }
   ],
   "source": [
    "m.get('snippet')"
   ]
  },
  {
   "cell_type": "code",
   "execution_count": 9,
   "metadata": {
    "collapsed": true
   },
   "outputs": [],
   "source": [
    "import base64"
   ]
  },
  {
   "cell_type": "code",
   "execution_count": 10,
   "metadata": {
    "collapsed": false
   },
   "outputs": [
    {
     "data": {
      "text/plain": [
       "{'historyId': '1345805',\n",
       " 'id': '156e1eb5acc3752d',\n",
       " 'internalDate': '1472669111000',\n",
       " 'labelIds': ['SENT'],\n",
       " 'payload': {'headers': [{'name': 'Return-Path',\n",
       "    'value': '<zcarwile@continuum.io>'},\n",
       "   {'name': 'Received',\n",
       "    'value': 'from [10.92.28.60] (mobile-107-107-61-179.mycingular.net. [107.107.61.179])        by smtp.gmail.com with ESMTPSA id h7sm668636qke.35.2016.08.31.11.45.12        (version=TLS1 cipher=ECDHE-RSA-AES128-SHA bits=128/128);        Wed, 31 Aug 2016 11:45:12 -0700 (PDT)'},\n",
       "   {'name': 'Content-Type',\n",
       "    'value': 'multipart/alternative; boundary=Apple-Mail-D0AFB236-FE35-4B19-8F9E-BDE7D0FDF202'},\n",
       "   {'name': 'Mime-Version', 'value': '1.0 (1.0)'},\n",
       "   {'name': 'Subject', 'value': 'Re: ABU meeting tomorrow'},\n",
       "   {'name': 'From', 'value': 'Zachary Carwile <zcarwile@continuum.io>'},\n",
       "   {'name': 'X-Mailer', 'value': 'iPhone Mail (13G35)'},\n",
       "   {'name': 'In-Reply-To',\n",
       "    'value': '<CAKo+JUCKuqB8J8JagO_Lo676ok68cdScZ6hfoqu1jE3xOfpAxQ@mail.gmail.com>'},\n",
       "   {'name': 'Date', 'value': 'Wed, 31 Aug 2016 14:45:11 -0400'},\n",
       "   {'name': 'Cc',\n",
       "    'value': 'Michele Chambers <mchambers@continuum.io>, Derek Orgeron <dorgeron@continuum.io>, Zachary Carwile <zachary.carwile@continuum.io>'},\n",
       "   {'name': 'Content-Transfer-Encoding', 'value': '7bit'},\n",
       "   {'name': 'Message-Id',\n",
       "    'value': '<18C6445E-E8A8-4B7A-AE91-F15D7CF1B295@continuum.io>'},\n",
       "   {'name': 'References',\n",
       "    'value': '<CAKo+JUCKuqB8J8JagO_Lo676ok68cdScZ6hfoqu1jE3xOfpAxQ@mail.gmail.com>'},\n",
       "   {'name': 'To', 'value': 'Jon Shepherd <jshepherd@continuum.io>'}],\n",
       "  'mimeType': 'multipart/alternative'},\n",
       " 'sizeEstimate': 4929,\n",
       " 'snippet': 'I&#39;ll be there. 👍 Sent from my iPhone On Aug 31, 2016, at 2:08 PM, Jon Shepherd &lt;jshepherd@continuum.io&gt; wrote: Michele is going to ask a few folks tomorrow what the three things they are',\n",
       " 'threadId': '156e1c9d5a6ef12c'}"
      ]
     },
     "execution_count": 10,
     "metadata": {},
     "output_type": "execute_result"
    }
   ],
   "source": [
    "m"
   ]
  },
  {
   "cell_type": "code",
   "execution_count": 12,
   "metadata": {
    "collapsed": false
   },
   "outputs": [
    {
     "name": "stdout",
     "output_type": "stream",
     "text": [
      "None\n"
     ]
    }
   ],
   "source": [
    "m.get('payload').get('parts')"
   ]
  }
 ],
 "metadata": {
  "kernelspec": {
   "display_name": "Python 2",
   "language": "python",
   "name": "python2"
  },
  "language_info": {
   "codemirror_mode": {
    "name": "ipython",
    "version": 2
   },
   "file_extension": ".py",
   "mimetype": "text/x-python",
   "name": "python",
   "nbconvert_exporter": "python",
   "pygments_lexer": "ipython2",
   "version": "2.7.13"
  }
 },
 "nbformat": 4,
 "nbformat_minor": 0
}
